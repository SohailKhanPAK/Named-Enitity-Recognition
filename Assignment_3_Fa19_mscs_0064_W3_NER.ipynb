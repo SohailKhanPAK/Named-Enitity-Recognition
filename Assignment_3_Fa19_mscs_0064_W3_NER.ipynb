{
  "nbformat": 4,
  "nbformat_minor": 0,
  "metadata": {
    "kernelspec": {
      "display_name": "Python 3",
      "language": "python",
      "name": "python3"
    },
    "language_info": {
      "codemirror_mode": {
        "name": "ipython",
        "version": 3
      },
      "file_extension": ".py",
      "mimetype": "text/x-python",
      "name": "python",
      "nbconvert_exporter": "python",
      "pygments_lexer": "ipython3",
      "version": "3.6.3"
    },
    "colab": {
      "name": "Assignment #3 Fa19-mscs-0064 W3_NER.ipynb",
      "provenance": [],
      "collapsed_sections": [],
      "include_colab_link": true
    }
  },
  "cells": [
    {
      "cell_type": "markdown",
      "metadata": {
        "id": "view-in-github",
        "colab_type": "text"
      },
      "source": [
        "<a href=\"https://colab.research.google.com/github/SohailKhanPAK/Named-Enitity-Recognition/blob/Master/Assignment_3_Fa19_mscs_0064_W3_NER.ipynb\" target=\"_parent\"><img src=\"https://colab.research.google.com/assets/colab-badge.svg\" alt=\"Open In Colab\"/></a>"
      ]
    },
    {
      "cell_type": "markdown",
      "metadata": {
        "id": "hhx4vnU-qiGj"
      },
      "source": [
        "# **Natural Language Processing**\n",
        "by **Sohail Khan**\n",
        "\n",
        "# **Creating Urdu NER**\n"
      ]
    },
    {
      "cell_type": "markdown",
      "metadata": {
        "id": "v9Hltk54qpOG"
      },
      "source": [
        "\n",
        "\n",
        "**Reading Data from the Google Drive**\n",
        "\n"
      ]
    },
    {
      "cell_type": "code",
      "metadata": {
        "id": "6gq5T7CCsB0I",
        "outputId": "0c51e053-644b-450b-ab22-4e8492210c74",
        "colab": {
          "base_uri": "https://localhost:8080/",
          "height": 33
        }
      },
      "source": [
        "from google.colab import drive\n",
        "\n",
        "# This will prompt for authorization.\n",
        "drive.mount('/content/drive')"
      ],
      "execution_count": 1,
      "outputs": [
        {
          "output_type": "stream",
          "text": [
            "Mounted at /content/drive\n"
          ],
          "name": "stdout"
        }
      ]
    },
    {
      "cell_type": "markdown",
      "metadata": {
        "id": "4OqN2wfjAlyr"
      },
      "source": [
        ""
      ]
    },
    {
      "cell_type": "markdown",
      "metadata": {
        "id": "1Slm21kLsE7N"
      },
      "source": [
        "**Note about the data:**\n",
        "```\n",
        "The dataset is a chunk of the dataset retrieved from \n",
        "http://ltrc.iiit.ac.in/ner-ssea-08/index.cgi?topic=5\n",
        "(Workshop on NER for South and South East Asian Languages in IJCNLP 2008 at Hyderabad, India)\n",
        "\n",
        "The data is reformatted and enriched. Please refer/acknowledge in your paper/report to the original source, if you use this data.\n",
        "```\n",
        "\n"
      ]
    },
    {
      "cell_type": "code",
      "metadata": {
        "id": "I4NaatT9sN6m",
        "outputId": "4d1ae370-f563-4def-950e-057d42c64820",
        "colab": {
          "base_uri": "https://localhost:8080/",
          "height": 404
        }
      },
      "source": [
        "import csv\n",
        "import pandas as pd\n",
        "\n",
        "with open('/content/drive/My Drive/NER-Dataset/conll-ner.csv', encoding = 'utf-8') as csvfile:\n",
        "    data = list(csv.reader(csvfile, delimiter=','))\n",
        "df=pd.DataFrame(data,columns=[\"word-no\", \"word\", \"lemma/root-word\", \"universal-part-of-speech\", \"other-part-of-speech\",\"empty\", \"IBO-tag\", \"Entity-type\"])\n",
        "df"
      ],
      "execution_count": 14,
      "outputs": [
        {
          "output_type": "execute_result",
          "data": {
            "text/html": [
              "<div>\n",
              "<style scoped>\n",
              "    .dataframe tbody tr th:only-of-type {\n",
              "        vertical-align: middle;\n",
              "    }\n",
              "\n",
              "    .dataframe tbody tr th {\n",
              "        vertical-align: top;\n",
              "    }\n",
              "\n",
              "    .dataframe thead th {\n",
              "        text-align: right;\n",
              "    }\n",
              "</style>\n",
              "<table border=\"1\" class=\"dataframe\">\n",
              "  <thead>\n",
              "    <tr style=\"text-align: right;\">\n",
              "      <th></th>\n",
              "      <th>word-no</th>\n",
              "      <th>word</th>\n",
              "      <th>lemma/root-word</th>\n",
              "      <th>universal-part-of-speech</th>\n",
              "      <th>other-part-of-speech</th>\n",
              "      <th>empty</th>\n",
              "      <th>IBO-tag</th>\n",
              "      <th>Entity-type</th>\n",
              "    </tr>\n",
              "  </thead>\n",
              "  <tbody>\n",
              "    <tr>\n",
              "      <th>0</th>\n",
              "      <td>1</td>\n",
              "      <td>زیرتربیت</td>\n",
              "      <td>زيرتربیت</td>\n",
              "      <td>NOUN</td>\n",
              "      <td>NNC</td>\n",
              "      <td></td>\n",
              "      <td>O</td>\n",
              "      <td></td>\n",
              "    </tr>\n",
              "    <tr>\n",
              "      <th>1</th>\n",
              "      <td>2</td>\n",
              "      <td>پولیس</td>\n",
              "      <td>پولیس</td>\n",
              "      <td>NOUN</td>\n",
              "      <td>NNC</td>\n",
              "      <td></td>\n",
              "      <td>O</td>\n",
              "      <td></td>\n",
              "    </tr>\n",
              "    <tr>\n",
              "      <th>2</th>\n",
              "      <td>3</td>\n",
              "      <td>اہلکاروں</td>\n",
              "      <td>اہلكارہ</td>\n",
              "      <td>NOUN</td>\n",
              "      <td>NN</td>\n",
              "      <td></td>\n",
              "      <td>O</td>\n",
              "      <td></td>\n",
              "    </tr>\n",
              "    <tr>\n",
              "      <th>3</th>\n",
              "      <td>4</td>\n",
              "      <td>کی</td>\n",
              "      <td>کا</td>\n",
              "      <td>ADP</td>\n",
              "      <td>PSP</td>\n",
              "      <td></td>\n",
              "      <td>O</td>\n",
              "      <td></td>\n",
              "    </tr>\n",
              "    <tr>\n",
              "      <th>4</th>\n",
              "      <td>5</td>\n",
              "      <td>تربیت</td>\n",
              "      <td>تربیت</td>\n",
              "      <td>NOUN</td>\n",
              "      <td>NN</td>\n",
              "      <td></td>\n",
              "      <td>O</td>\n",
              "      <td></td>\n",
              "    </tr>\n",
              "    <tr>\n",
              "      <th>...</th>\n",
              "      <td>...</td>\n",
              "      <td>...</td>\n",
              "      <td>...</td>\n",
              "      <td>...</td>\n",
              "      <td>...</td>\n",
              "      <td>...</td>\n",
              "      <td>...</td>\n",
              "      <td>...</td>\n",
              "    </tr>\n",
              "    <tr>\n",
              "      <th>14949</th>\n",
              "      <td>40</td>\n",
              "      <td>جا</td>\n",
              "      <td>جا</td>\n",
              "      <td>AUX</td>\n",
              "      <td>VAUX</td>\n",
              "      <td></td>\n",
              "      <td>O</td>\n",
              "      <td></td>\n",
              "    </tr>\n",
              "    <tr>\n",
              "      <th>14950</th>\n",
              "      <td>41</td>\n",
              "      <td>سکے</td>\n",
              "      <td>سک</td>\n",
              "      <td>AUX</td>\n",
              "      <td>VAUX</td>\n",
              "      <td></td>\n",
              "      <td>O</td>\n",
              "      <td></td>\n",
              "    </tr>\n",
              "    <tr>\n",
              "      <th>14951</th>\n",
              "      <td>1</td>\n",
              "      <td>سماجی</td>\n",
              "      <td>سماجی</td>\n",
              "      <td>ADJ</td>\n",
              "      <td>JJ</td>\n",
              "      <td></td>\n",
              "      <td>NETO</td>\n",
              "      <td>B</td>\n",
              "    </tr>\n",
              "    <tr>\n",
              "      <th>14952</th>\n",
              "      <td>2</td>\n",
              "      <td>ترقیاتی</td>\n",
              "      <td>ترقیاتی</td>\n",
              "      <td>ADJ</td>\n",
              "      <td>JJ</td>\n",
              "      <td></td>\n",
              "      <td>NETO</td>\n",
              "      <td>I</td>\n",
              "    </tr>\n",
              "    <tr>\n",
              "      <th>14953</th>\n",
              "      <td>3</td>\n",
              "      <td>تنظیم</td>\n",
              "      <td>تنظیم</td>\n",
              "      <td>NOUN</td>\n",
              "      <td>NN</td>\n",
              "      <td></td>\n",
              "      <td>NETO</td>\n",
              "      <td>I</td>\n",
              "    </tr>\n",
              "  </tbody>\n",
              "</table>\n",
              "<p>14954 rows × 8 columns</p>\n",
              "</div>"
            ],
            "text/plain": [
              "      word-no      word lemma/root-word  ... empty IBO-tag Entity-type\n",
              "0           1  زیرتربیت        زيرتربیت  ...             O            \n",
              "1           2     پولیس           پولیس  ...             O            \n",
              "2           3  اہلکاروں         اہلكارہ  ...             O            \n",
              "3           4        کی              کا  ...             O            \n",
              "4           5     تربیت           تربیت  ...             O            \n",
              "...       ...       ...             ...  ...   ...     ...         ...\n",
              "14949      40        جا              جا  ...             O            \n",
              "14950      41       سکے              سک  ...             O            \n",
              "14951       1     سماجی           سماجی  ...          NETO           B\n",
              "14952       2   ترقیاتی         ترقیاتی  ...          NETO           I\n",
              "14953       3     تنظیم           تنظیم  ...          NETO           I\n",
              "\n",
              "[14954 rows x 8 columns]"
            ]
          },
          "metadata": {
            "tags": []
          },
          "execution_count": 14
        }
      ]
    },
    {
      "cell_type": "markdown",
      "metadata": {
        "id": "SSLCvwEVBcp8"
      },
      "source": [
        "\n",
        "\n",
        "```\n",
        "The format of the above output is:\n",
        "word-no, word, lemma/root-word, universal-part-of-speech, other-part-of-speech,empty, IBO-tag, Entity-type\n",
        "\n",
        "The first word of a named entity is tagged as B(eginning), \n",
        "the other words of the named entity are tagged as I(ntermediate),\n",
        "and the words not belonging to named entity are tagged as O(ther)\n",
        "\n",
        "For example\n",
        "Bill ... Person B\n",
        "Gates ... Person I\n",
        "founded ... O\n",
        "Microsoft ... Organization B\n",
        "\n",
        "```\n",
        "\n",
        "\n"
      ]
    },
    {
      "cell_type": "markdown",
      "metadata": {
        "id": "J8u6EGRG-C-w"
      },
      "source": [
        "Extracting features"
      ]
    },
    {
      "cell_type": "code",
      "metadata": {
        "scrolled": true,
        "id": "Rf3LyYD_-C-x",
        "outputId": "d210455b-3d3f-40a6-baed-61424ea96dbc",
        "colab": {
          "base_uri": "https://localhost:8080/",
          "height": 50
        }
      },
      "source": [
        "def extract_features(words, i):\n",
        "    wid = words[i][0]\n",
        "\n",
        "    token = words[i][1]\n",
        "    upos = words[i][3]\n",
        "    xpos = words[i][4]\n",
        "    \n",
        "    prev_token = \"\"\n",
        "    prev_upos = \"\"\n",
        "    prev_xpos = \"\" \n",
        "    \n",
        "    next_token = \"\"\n",
        "    next_upos = \"\"\n",
        "    next_xpos = \"\"\n",
        "    \n",
        "    if int(wid) != 1: \n",
        "        prev_token = words[i-1][1]\n",
        "        prev_upos = words[i-1][3]\n",
        "        prev_xpos = words[i-1][4] \n",
        "    if  i < len(words)-1:\n",
        "        if int(wid) < int(words[i+1][0]): \n",
        "            next_token = words[i+1][1]\n",
        "            next_upos = words[i+1][3]\n",
        "            next_xpos = words[i+1][4]\n",
        "\n",
        "    is_number = False\n",
        "    try:\n",
        "        if float(token):\n",
        "            is_number = True\n",
        "    except:\n",
        "        pass\n",
        "    \n",
        "    features_dict = {\"token\": token\n",
        "         #  , \"upos\": upos\n",
        "         #   , \"xpos\": xpos          \n",
        "           , \"prev_token\": prev_token\n",
        "        #    , \"prev_upos\": next_upos  \n",
        "        #    , \"prev_xpos\": next_xpos\n",
        "            , \"next_token\": next_token\n",
        "        #   , \"next_upos\": next_upos\n",
        "        #    , \"next_xpos\": next_xpos\n",
        "        , \"is_number\": is_number}\n",
        "    return features_dict\n",
        "\n",
        "print(data[3:6])\n",
        "print(extract_features(data, 4))\n"
      ],
      "execution_count": 15,
      "outputs": [
        {
          "output_type": "stream",
          "text": [
            "[['4', 'کی', 'کا', 'ADP', 'PSP', '', 'O', ''], ['5', 'تربیت', 'تربیت', 'NOUN', 'NN', '', 'O', ''], ['6', 'میں', 'میں', 'ADP', 'PSP', '', 'O', '']]\n",
            "{'token': 'تربیت', 'prev_token': 'کی', 'next_token': 'میں', 'is_number': False}\n"
          ],
          "name": "stdout"
        }
      ]
    },
    {
      "cell_type": "markdown",
      "metadata": {
        "id": "NjvxI4sRBFXR"
      },
      "source": [
        "Converting feature vector for each word"
      ]
    },
    {
      "cell_type": "code",
      "metadata": {
        "id": "5yVk3_Ur-C-1",
        "outputId": "6163d01b-f80c-4470-9acf-73ec66dd059a",
        "colab": {
          "base_uri": "https://localhost:8080/",
          "height": 35
        }
      },
      "source": [
        "X_features = []\n",
        "Y = []\n",
        "\n",
        "\n",
        "for i in range(len(data)):\n",
        "    try:\n",
        "        X_features.append(extract_features(data, i))\n",
        "        Y.append(data[i][6])\n",
        "    except:\n",
        "        pass\n",
        "\n",
        "print(len(X_features),\":\",len(Y))"
      ],
      "execution_count": null,
      "outputs": [
        {
          "output_type": "stream",
          "text": [
            "14795 : 14795\n"
          ],
          "name": "stdout"
        }
      ]
    },
    {
      "cell_type": "code",
      "metadata": {
        "id": "6sE1Uhtkn1t-",
        "outputId": "daac89ad-bde7-4198-9e16-06f0eb9a2c2e",
        "colab": {
          "base_uri": "https://localhost:8080/",
          "height": 72
        }
      },
      "source": [
        "print(X_features[4:6])\n",
        "print(Y[4:6])\n"
      ],
      "execution_count": null,
      "outputs": [
        {
          "output_type": "stream",
          "text": [
            "[{'token': 'تربیت', 'prev_token': 'کی', 'next_token': 'میں', 'is_number': False}, {'token': 'میں', 'prev_token': 'تربیت', 'next_token': 'خامیاں', 'is_number': False}]\n",
            "['O', 'O']\n"
          ],
          "name": "stdout"
        }
      ]
    },
    {
      "cell_type": "markdown",
      "metadata": {
        "id": "3VZCMYOTEoVc"
      },
      "source": [
        "\n",
        "\n",
        "```\n",
        "# This is formatted as code\n",
        "```\n",
        "\n"
      ]
    },
    {
      "cell_type": "markdown",
      "metadata": {
        "id": "TNyTE89OEbc-"
      },
      "source": [
        "Currently many features have string data, we convert it into numeric vectors with a column for each string"
      ]
    },
    {
      "cell_type": "code",
      "metadata": {
        "id": "65eAJJUG-C-9",
        "outputId": "06f13ec8-7a54-49e4-90ea-26f1a170847b",
        "colab": {
          "base_uri": "https://localhost:8080/",
          "height": 104
        }
      },
      "source": [
        "from sklearn.feature_extraction import DictVectorizer\n",
        "vectoriser = DictVectorizer(sparse=True)\n",
        "X = vectoriser.fit_transform(X_features)\n",
        "\n",
        "print(\"Shape of the matrix: \", X.get_shape())\n",
        "print(X[3])\n"
      ],
      "execution_count": null,
      "outputs": [
        {
          "output_type": "stream",
          "text": [
            "Shape of the matrix:  (14795, 8572)\n",
            "  (0, 0)\t0.0\n",
            "  (0, 743)\t1.0\n",
            "  (0, 3309)\t1.0\n",
            "  (0, 8408)\t1.0\n"
          ],
          "name": "stdout"
        }
      ]
    },
    {
      "cell_type": "markdown",
      "metadata": {
        "id": "SaIhQp6zgIbz"
      },
      "source": [
        "#Loding the Word2Vec Model\n",
        "import gensim\n",
        "model = gensim.models.Word2Vec.load(\"/content/drive/My Drive/CLT20/urdu-w2vec\")"
      ]
    },
    {
      "cell_type": "markdown",
      "metadata": {
        "id": "dkijmB7PJ2zV"
      },
      "source": [
        "#adding word embedding features\n",
        "import numpy\n",
        "\n",
        "lm  = []\n",
        "Yf = []\n",
        "\n",
        "e = 0\n",
        "for i in range(len(X)):\n",
        "    try:\n",
        "        m = model[X_features[i]['token']]\n",
        "        #Xv[i] = numpy.append(X[i],m)\n",
        "        lm.append(numpy.append(X[i],m))\n",
        "        Yf.append(Y[i])\n",
        "    except:\n",
        "        #print(X_features[i]['token'], Y[i])\n",
        "        e = e + 1\n",
        "    \n",
        "print(e)\n",
        "\n",
        "X = numpy.array(lm)\n",
        "Y = Yf\n",
        "\n",
        "\n",
        "print(\"number of features: \", len(X[3]))\n",
        "print(X[3])"
      ]
    },
    {
      "cell_type": "markdown",
      "metadata": {
        "id": "jYXiEeNc-C_B"
      },
      "source": [
        "**Making training set and training the classifier**"
      ]
    },
    {
      "cell_type": "code",
      "metadata": {
        "id": "qPbSzUHy-C_C",
        "outputId": "69be3359-bd93-44ba-a176-fa116afd0008",
        "colab": {
          "base_uri": "https://localhost:8080/",
          "height": 86
        }
      },
      "source": [
        "from sklearn import model_selection\n",
        "from sklearn import svm            # import support vector machine\n",
        "\n",
        "cl = svm.LinearSVC()\n",
        "validation_size = 0.20\n",
        "seed = 7\n",
        "\n",
        "\n",
        "\n",
        "X_train, X_test, Y_train, Y_test = model_selection.train_test_split(X, Y, stratify = Y, test_size=validation_size, random_state=seed)\n",
        "cl.fit(X_train, Y_train)\n"
      ],
      "execution_count": null,
      "outputs": [
        {
          "output_type": "execute_result",
          "data": {
            "text/plain": [
              "LinearSVC(C=1.0, class_weight=None, dual=True, fit_intercept=True,\n",
              "          intercept_scaling=1, loss='squared_hinge', max_iter=1000,\n",
              "          multi_class='ovr', penalty='l2', random_state=None, tol=0.0001,\n",
              "          verbose=0)"
            ]
          },
          "metadata": {
            "tags": []
          },
          "execution_count": 7
        }
      ]
    },
    {
      "cell_type": "code",
      "metadata": {
        "id": "bUt01to4-C_G",
        "outputId": "63ca8fe2-1909-4ec6-937a-cac963901113",
        "colab": {
          "base_uri": "https://localhost:8080/",
          "height": 35
        }
      },
      "source": [
        "print(cl.predict(X_test[4:7]))"
      ],
      "execution_count": null,
      "outputs": [
        {
          "output_type": "stream",
          "text": [
            "['O' 'O' 'O']\n"
          ],
          "name": "stdout"
        }
      ]
    },
    {
      "cell_type": "code",
      "metadata": {
        "id": "uWOC-r_Mk1Pq"
      },
      "source": [
        ""
      ],
      "execution_count": null,
      "outputs": []
    },
    {
      "cell_type": "code",
      "metadata": {
        "id": "1Vs6P8_n-C_L",
        "outputId": "4e89a32a-a781-41d0-8cd4-7fec81efb386",
        "colab": {
          "base_uri": "https://localhost:8080/",
          "height": 35
        }
      },
      "source": [
        "print(Y_test[4:7])"
      ],
      "execution_count": null,
      "outputs": [
        {
          "output_type": "stream",
          "text": [
            "['O', 'O', 'O']\n"
          ],
          "name": "stdout"
        }
      ]
    },
    {
      "cell_type": "code",
      "metadata": {
        "id": "O5h-rMQT-C_P",
        "outputId": "0188a118-fd5f-4883-884d-3178805324d9",
        "colab": {
          "base_uri": "https://localhost:8080/",
          "height": 553
        }
      },
      "source": [
        "from sklearn import metrics\n",
        "X_predict = cl.predict(X_test)\n",
        "print(metrics.classification_report(Y_test, X_predict))\n",
        "print(metrics.confusion_matrix(Y_test, X_predict))\n"
      ],
      "execution_count": null,
      "outputs": [
        {
          "output_type": "stream",
          "text": [
            "              precision    recall  f1-score   support\n",
            "\n",
            "         NEA       0.87      0.72      0.79        18\n",
            "         NED       0.57      0.43      0.49        28\n",
            "         NEL       0.96      0.89      0.92       167\n",
            "         NEM       0.85      0.69      0.76        67\n",
            "         NEN       0.89      0.90      0.89        69\n",
            "         NEO       0.94      0.60      0.73        25\n",
            "         NEP       0.94      0.75      0.83       128\n",
            "        NETE       1.00      0.80      0.89        10\n",
            "        NETI       0.95      0.88      0.91        42\n",
            "        NETO       0.50      1.00      0.67         1\n",
            "        NETP       1.00      0.67      0.80         6\n",
            "           O       0.96      0.99      0.98      2398\n",
            "\n",
            "    accuracy                           0.95      2959\n",
            "   macro avg       0.87      0.78      0.81      2959\n",
            "weighted avg       0.95      0.95      0.95      2959\n",
            "\n",
            "[[  13    0    0    0    0    0    0    0    0    0    0    5]\n",
            " [   0   12    2    0    0    0    1    0    0    0    0   13]\n",
            " [   0    0  149    0    0    0    2    0    0    0    0   16]\n",
            " [   2    0    0   46    7    0    0    0    0    0    0   12]\n",
            " [   0    0    0    5   62    0    0    0    0    0    0    2]\n",
            " [   0    2    2    0    0   15    0    0    0    1    0    5]\n",
            " [   0    0    0    0    0    0   96    0    0    0    0   32]\n",
            " [   0    0    0    0    0    0    0    8    0    0    0    2]\n",
            " [   0    0    0    0    1    0    0    0   37    0    0    4]\n",
            " [   0    0    0    0    0    0    0    0    0    1    0    0]\n",
            " [   0    0    0    0    0    0    0    0    0    0    4    2]\n",
            " [   0    7    3    3    0    1    3    0    2    0    0 2379]]\n"
          ],
          "name": "stdout"
        }
      ]
    },
    {
      "cell_type": "markdown",
      "metadata": {
        "id": "LxoxhoWQrqGV"
      },
      "source": [
        "\n",
        "**Exercise 1:**  Enable the PoSTag attributes in extract_features, then train and evaluate the model.\n",
        "\n",
        "**Exercise 2:**  Include I and B subtags in the target tag, then run the experiment(s) again. (Hint: The Y would have data[i][6] +  \"-\" + data[i][7])\n",
        "\n",
        "**(further) Exercises:** \n",
        "(a) Enable the the Word Embedding Code, then train and evaluate the model.\n",
        "\n",
        "(b) Create other features, then traina and evaluate the model.\n",
        "e.g. length of token, 3-letter suffix, gazetter lists etc,\n"
      ]
    },
    {
      "cell_type": "markdown",
      "metadata": {
        "id": "flolGWwXqFco"
      },
      "source": [
        "K-fold Cross Validation"
      ]
    },
    {
      "cell_type": "markdown",
      "metadata": {
        "id": "HcfGqNPkros-"
      },
      "source": [
        ""
      ]
    },
    {
      "cell_type": "code",
      "metadata": {
        "id": "fupXl0PxqEiu",
        "outputId": "f6cfaf55-5967-4ad2-e0b6-81040a9f8c7a",
        "colab": {
          "base_uri": "https://localhost:8080/",
          "height": 35
        }
      },
      "source": [
        "from sklearn.model_selection import cross_val_score\n",
        "clf = svm.LinearSVC()\n",
        "\n",
        "scores = cross_val_score(clf, X, Y, cv=5)\n",
        "print(scores)"
      ],
      "execution_count": null,
      "outputs": [
        {
          "output_type": "stream",
          "text": [
            "[0.88746198 0.92936803 0.93511321 0.92666441 0.92700237]\n"
          ],
          "name": "stdout"
        }
      ]
    }
  ]
}